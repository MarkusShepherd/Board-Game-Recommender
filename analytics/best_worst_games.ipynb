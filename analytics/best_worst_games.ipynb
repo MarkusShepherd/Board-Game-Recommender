{
 "cells": [
  {
   "cell_type": "code",
   "execution_count": null,
   "metadata": {
    "collapsed": true
   },
   "outputs": [],
   "source": [
    "from itertools import groupby\n",
    "from jkutils.data import CsvLoader, clean"
   ]
  },
  {
   "cell_type": "code",
   "execution_count": null,
   "metadata": {
    "collapsed": true
   },
   "outputs": [],
   "source": [
    "pint = lambda x: int(x) if x else None\n",
    "pfloat = lambda x: float(x) if x else None"
   ]
  },
  {
   "cell_type": "code",
   "execution_count": null,
   "metadata": {
    "collapsed": false
   },
   "outputs": [],
   "source": [
    "loader = CsvLoader(\n",
    "    file_url='../bgg.csv', \n",
    "    id_field='url', \n",
    "    default_field_trans=clean, \n",
    "    field_transforms={\n",
    "        'year': pint, \n",
    "        'geek_rating': pfloat, \n",
    "        'avg_rating': pfloat, \n",
    "        'num_votes': pint, \n",
    "        'rank': pint,\n",
    "    },\n",
    ")\n",
    "data = loader.load()\n",
    "print(len(data), 'games loaded')"
   ]
  },
  {
   "cell_type": "code",
   "execution_count": null,
   "metadata": {
    "collapsed": false
   },
   "outputs": [],
   "source": [
    "key = lambda row: row['year'] if row['year'] >= 1960 else (row['year'] // 10) * 10\n",
    "voted = (row for row in data.values() \n",
    "         if row['num_votes'] and row['num_votes'] >= 30 and row['year'] and row['year'] >= 1900)\n",
    "for gkey, group in groupby(sorted(voted, key=key), key=key):\n",
    "    games = list(group)\n",
    "    print('There were {:d} games released in {:d}'.format(len(games), gkey))\n",
    "#     game = min(games, key=lambda x: x['avg_rating'])\n",
    "#     print('Worst avg rating:  {:.2f} {}'.format(game['avg_rating'], game['name']))\n",
    "    game = min(games, key=lambda x: x['geek_rating'])\n",
    "    print('Worst geek rating: {:.2f} {}'.format(game['geek_rating'], game['name']))\n",
    "    game = max(games, key=lambda x: x['geek_rating'])\n",
    "    print('Best geek rating:  {:.2f} {}'.format(game['geek_rating'], game['name']))\n",
    "#     game = max(games, key=lambda x: x['avg_rating'])\n",
    "#     print('Best avg rating:   {:.2f} {}'.format(game['avg_rating'], game['name']))\n",
    "    print()"
   ]
  },
  {
   "cell_type": "code",
   "execution_count": null,
   "metadata": {
    "collapsed": false
   },
   "outputs": [],
   "source": [
    "key = lambda row: (row['year'] // 10) * 10 if row['year'] >= 1960 else 1950\n",
    "voted = (row for row in data.values() \n",
    "         if row['num_votes'] and row['num_votes'] >= 100 and row['year'] and row['year'] >= 1900)\n",
    "for gkey, group in groupby(sorted(voted, key=key), key=key):\n",
    "    games = list(group)\n",
    "    print('There were {:d} games released in the {:d}s'.format(len(games), gkey))\n",
    "#     game = min(games, key=lambda x: x['avg_rating'])\n",
    "#     print('Worst avg rating:  {:.2f} {}'.format(game['avg_rating'], game['name']))\n",
    "    game = min(games, key=lambda x: x['geek_rating'])\n",
    "    print('Worst geek rating: {:.2f} {}'.format(game['geek_rating'], game['name']))\n",
    "    game = max(games, key=lambda x: x['geek_rating'])\n",
    "    print('Best geek rating:  {:.2f} {}'.format(game['geek_rating'], game['name']))\n",
    "#     game = max(games, key=lambda x: x['avg_rating'])\n",
    "#     print('Best avg rating:   {:.2f} {}'.format(game['avg_rating'], game['name']))\n",
    "    print()"
   ]
  }
 ],
 "metadata": {
  "kernelspec": {
   "display_name": "Python 3",
   "language": "python",
   "name": "python3"
  },
  "language_info": {
   "codemirror_mode": {
    "name": "ipython",
    "version": 3
   },
   "file_extension": ".py",
   "mimetype": "text/x-python",
   "name": "python",
   "nbconvert_exporter": "python",
   "pygments_lexer": "ipython3",
   "version": "3.5.2"
  }
 },
 "nbformat": 4,
 "nbformat_minor": 1
}
